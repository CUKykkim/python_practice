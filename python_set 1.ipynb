{
  "cells": [
    {
      "cell_type": "markdown",
      "metadata": {
        "colab_type": "text",
        "id": "view-in-github"
      },
      "source": [
        "<a href=\"https://colab.research.google.com/github/ykkim77/python-final/blob/main/python_final_2021_1_%EA%B3%84%EC%A0%88%ED%95%99%EA%B8%B0.ipynb\" target=\"_parent\"><img src=\"https://colab.research.google.com/assets/colab-badge.svg\" alt=\"Open In Colab\"/></a>"
      ]
    },
    {
      "cell_type": "markdown",
      "metadata": {
        "id": "TQggtlLF-huA"
      },
      "source": [
        "# **파이썬 프로그래밍 1세트**\n",
        "\n"
      ]
    },
    {
      "cell_type": "markdown",
      "metadata": {},
      "source": [
        "## 1단계"
      ]
    },
    {
      "cell_type": "markdown",
      "metadata": {
        "id": "lhpvyiXLeu-1"
      },
      "source": [
        "\n",
        "1. 아래와 같이 리스트의 데이터를 출력하라.\n",
        "\n",
        "stock_price = [15000, 18000, 24000, 19000]"
      ]
    },
    {
      "cell_type": "code",
      "execution_count": null,
      "metadata": {
        "id": "cb4AtnIZIGyA"
      },
      "outputs": [],
      "source": [
        "###### 문제 답안 작성\n",
        "\n"
      ]
    },
    {
      "cell_type": "code",
      "execution_count": null,
      "metadata": {},
      "outputs": [],
      "source": [
        "## 정답확인\n",
        "\n",
        "for i in range(4):\n",
        "    print(stock_price[i])"
      ]
    },
    {
      "cell_type": "markdown",
      "metadata": {
        "id": "X1GukuNA-vPR"
      },
      "source": [
        "## 2단계"
      ]
    },
    {
      "cell_type": "markdown",
      "metadata": {},
      "source": [
        "2. 다음 리스트를 아래와 같이 출력하라.\n",
        "\n",
        "```\n",
        "fruit_list = [apple, banana, melon, grape]\n",
        "\n",
        "apple banana\n",
        "melon grape\n",
        "```"
      ]
    },
    {
      "cell_type": "code",
      "execution_count": null,
      "metadata": {
        "id": "kX9xY63-5j5p"
      },
      "outputs": [],
      "source": [
        "####  답안 작성\n",
        "\n",
        "\n"
      ]
    },
    {
      "cell_type": "code",
      "execution_count": null,
      "metadata": {},
      "outputs": [],
      "source": [
        "## 정답\n",
        "\n",
        "for i in range( len(fruit_list) - 1 ) :\n",
        "  print(fruit_list[i], fruit_list[i+1])"
      ]
    },
    {
      "cell_type": "markdown",
      "metadata": {
        "id": "EnqoaId9BzIm"
      },
      "source": [
        "## 3단계"
      ]
    },
    {
      "cell_type": "markdown",
      "metadata": {},
      "source": [
        "3. \"Study hard\" 라는 문자열을 출력하는 print_study() 함수를 정의하라."
      ]
    },
    {
      "cell_type": "code",
      "execution_count": null,
      "metadata": {},
      "outputs": [],
      "source": [
        "### 답안 작성"
      ]
    },
    {
      "cell_type": "code",
      "execution_count": null,
      "metadata": {},
      "outputs": [],
      "source": [
        "## 정답\n",
        "\n",
        "def print_coin():\n",
        "    print(\"Study hard\")"
      ]
    },
    {
      "cell_type": "markdown",
      "metadata": {},
      "source": [
        "## 4단계"
      ]
    },
    {
      "cell_type": "markdown",
      "metadata": {},
      "source": [
        "4. 아래의 코드의 실행 결과를 예측하라\n",
        "\n",
        "\n",
        "```\n",
        "def message() :\n",
        "    print(\"Apple\")\n",
        "    print(\"Banana\")\n",
        "    \n",
        "message()\n",
        "print(\"Melon\")\n",
        "message()\n",
        "```"
      ]
    },
    {
      "cell_type": "code",
      "execution_count": null,
      "metadata": {},
      "outputs": [],
      "source": [
        "### 답안 작성"
      ]
    },
    {
      "cell_type": "markdown",
      "metadata": {},
      "source": [
        "## 정답\n",
        "\n",
        "Apple\n",
        "Banana\n",
        "Melon\n",
        "Apple\n",
        "Banana"
      ]
    },
    {
      "cell_type": "markdown",
      "metadata": {},
      "source": [
        "## 5단계"
      ]
    },
    {
      "cell_type": "markdown",
      "metadata": {},
      "source": [
        "5. 아래 코드의 실행 결과를 예측하라\n",
        "\n",
        "```\n",
        "print(\"A\")\n",
        "\n",
        "def message() :\n",
        "    print(\"B\")\n",
        "\n",
        "print(\"C\")\n",
        "message()\n",
        "```"
      ]
    },
    {
      "cell_type": "code",
      "execution_count": null,
      "metadata": {},
      "outputs": [],
      "source": [
        "## 답안작성\n",
        "\n"
      ]
    },
    {
      "cell_type": "code",
      "execution_count": null,
      "metadata": {},
      "outputs": [],
      "source": [
        "## 정답 \n",
        "\n",
        "A\n",
        "C\n",
        "B"
      ]
    },
    {
      "cell_type": "markdown",
      "metadata": {},
      "source": [
        "## 7단계"
      ]
    },
    {
      "cell_type": "markdown",
      "metadata": {},
      "source": [
        "6. 아래 표를 stock 이름의 딕셔너리로 표현하라.시가를 key로 저장하고, 나머지 같은 열의 데이터를 리스트로 저장해서 value로 저장한다. 종가 역시 key로 저장하고 나머지 같은 열의 데이터를 리스트로 저장해서 value로 저장한다.\n",
        "\n",
        "\n",
        "|시가|종가\n",
        "|------|---|\n",
        "|100|80|\n",
        "|200|210|\n",
        "|300|330|"
      ]
    },
    {
      "cell_type": "code",
      "execution_count": null,
      "metadata": {},
      "outputs": [],
      "source": [
        "## 답안작성"
      ]
    },
    {
      "cell_type": "code",
      "execution_count": null,
      "metadata": {},
      "outputs": [],
      "source": [
        "## 정답\n",
        "\n",
        "stock = {\"시가\": [100, 200, 300], \"종가\": [80, 210, 330] }"
      ]
    },
    {
      "cell_type": "markdown",
      "metadata": {},
      "source": [
        "## 8단계"
      ]
    },
    {
      "cell_type": "markdown",
      "metadata": {},
      "source": [
        "7. 아래 표를 stock 이라는 이름의 딕셔너리로 표현하라. 날짜를 key로 저장하고, 나머지 같은 행의 데이터를 리스트로 저장해서 value로 저장한다. 첫 열이 날짜이다.\n",
        "\n",
        "|3/2|1500|1100|800|1400|\n",
        "|------|------|------|------|---|\n",
        "|3/3|1700|1900|2100|1800|\n"
      ]
    },
    {
      "cell_type": "code",
      "execution_count": null,
      "metadata": {},
      "outputs": [],
      "source": [
        "## 답안 작성\n",
        "\n"
      ]
    },
    {
      "cell_type": "markdown",
      "metadata": {},
      "source": [
        "### 정답\n",
        "\n",
        "\n",
        "\n",
        "stock = {\"3/2\": [1500, 1100, 800, 1400], \"3/3\": [1700, 1900, 2100, 1800] }"
      ]
    },
    {
      "cell_type": "markdown",
      "metadata": {},
      "source": [
        "## 9단계"
      ]
    },
    {
      "cell_type": "markdown",
      "metadata": {},
      "source": [
        "8. 리스트에 저장된 데이터를 아래와 같이 출력하라.\n",
        "\n",
        "apart = [ [101, 102], [201, 202], [301, 302] ]\n",
        "\n",
        "```\n",
        "101 호\n",
        "102 호\n",
        "201 호\n",
        "202 호\n",
        "301 호\n",
        "302 호\n",
        "```"
      ]
    },
    {
      "cell_type": "code",
      "execution_count": null,
      "metadata": {},
      "outputs": [],
      "source": [
        "## 답안 작성"
      ]
    },
    {
      "cell_type": "markdown",
      "metadata": {},
      "source": [
        "### 정답\n",
        "\n",
        "```\n",
        "for row in apart:\n",
        "    for col in row:\n",
        "        print(col, \"호\")\n",
        "```"
      ]
    },
    {
      "cell_type": "markdown",
      "metadata": {},
      "source": [
        "## 10단계"
      ]
    },
    {
      "cell_type": "markdown",
      "metadata": {},
      "source": [
        "9. 리스트에 저장된 데이터를 아래와 같이 출력하라.\n",
        "\n",
        "```\n",
        "apart = [ [101, 102], [201, 202], [301, 302] ]\n",
        "```\n",
        "\n",
        "```\n",
        "302 호\n",
        "301 호\n",
        "202 호\n",
        "201 호\n",
        "102 호\n",
        "101 호\n",
        "```\n"
      ]
    },
    {
      "cell_type": "code",
      "execution_count": null,
      "metadata": {},
      "outputs": [],
      "source": [
        "## 답안 작성"
      ]
    },
    {
      "cell_type": "markdown",
      "metadata": {},
      "source": [
        "### 정답\n",
        "\n",
        "```\n",
        "for row in apart[::-1]:\n",
        "    for col in row[::-1]:\n",
        "        print(col, \"호\")\n",
        "```"
      ]
    },
    {
      "cell_type": "markdown",
      "metadata": {},
      "source": [
        "## 12단계\n"
      ]
    },
    {
      "cell_type": "markdown",
      "metadata": {},
      "source": [
        "10. 아래 코드의 실행 결과를 예측하라. \n",
        "\n",
        "```\n",
        "def message1():\n",
        "    print(\"Apple\")\n",
        "\n",
        "def message2():\n",
        "    print(\"Banana\")\n",
        "\n",
        "def message3():\n",
        "    for i in range (2) :\n",
        "        message2()\n",
        "        print(\"Melon\")\n",
        "    message1()\n",
        "\n",
        "message3()\n",
        "```"
      ]
    },
    {
      "cell_type": "markdown",
      "metadata": {},
      "source": [
        "## 답안 작성"
      ]
    },
    {
      "cell_type": "markdown",
      "metadata": {},
      "source": [
        "### 정답\n",
        "\n",
        "Banana\n",
        "Melon\n",
        "Banana\n",
        "Melon\n",
        "Apple"
      ]
    }
  ],
  "metadata": {
    "colab": {
      "authorship_tag": "ABX9TyMeFWOrPKgXKme+CgCqF7DK",
      "collapsed_sections": [],
      "include_colab_link": true,
      "name": "python-final_2021-1-계절학기.ipynb",
      "provenance": []
    },
    "kernelspec": {
      "display_name": "Python 3",
      "name": "python3"
    },
    "language_info": {
      "codemirror_mode": {
        "name": "ipython",
        "version": 3
      },
      "file_extension": ".py",
      "mimetype": "text/x-python",
      "name": "python",
      "nbconvert_exporter": "python",
      "pygments_lexer": "ipython3",
      "version": "3.9.4"
    }
  },
  "nbformat": 4,
  "nbformat_minor": 0
}
