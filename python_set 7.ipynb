{
  "cells": [
    {
      "cell_type": "markdown",
      "metadata": {
        "colab_type": "text",
        "id": "view-in-github"
      },
      "source": [
        "<a href=\"https://colab.research.google.com/github/ykkim77/python-final/blob/main/python_final_2021_1_%EA%B3%84%EC%A0%88%ED%95%99%EA%B8%B0.ipynb\" target=\"_parent\"><img src=\"https://colab.research.google.com/assets/colab-badge.svg\" alt=\"Open In Colab\"/></a>"
      ]
    },
    {
      "cell_type": "markdown",
      "metadata": {
        "id": "TQggtlLF-huA"
      },
      "source": [
        "# **파이썬 프로그래밍 6세트**\n",
        "\n"
      ]
    },
    {
      "cell_type": "markdown",
      "metadata": {},
      "source": [
        "## 6단계"
      ]
    },
    {
      "cell_type": "code",
      "execution_count": null,
      "metadata": {},
      "outputs": [],
      "source": []
    },
    {
      "cell_type": "markdown",
      "metadata": {
        "id": "lhpvyiXLeu-1"
      },
      "source": [
        "1. 은행에 가서 계좌를 개설하면 은행이름, 예금주, 계좌번호, 잔액이 설정됩니다. Account 클래스를 생성한 후 생성자를 구현해보세요. 생성자에서는 예금주와 초기 잔액만 입력 받습니다. 은행이름은 SC은행으로 계좌번호는 3자리-2자리-6자리 형태로 랜덤하게 생성됩니다.\n",
        "\n",
        "\n",
        "```\n",
        "은행이름: SC은행\n",
        "계좌번호: 111-11-111111\n",
        "```"
      ]
    },
    {
      "cell_type": "code",
      "execution_count": null,
      "metadata": {
        "id": "cb4AtnIZIGyA"
      },
      "outputs": [],
      "source": [
        "###### 문제 답안 작성\n",
        "\n",
        "\n"
      ]
    },
    {
      "cell_type": "markdown",
      "metadata": {},
      "source": [
        "### 정답확인\n",
        "\n",
        "```\n",
        "import random\n",
        "\n",
        "class Account:\n",
        "    def __init__(self, name, balance):\n",
        "        self.name = name\n",
        "        self.balance = balance\n",
        "        self.bank = \"SC은행\"\n",
        "        num1 = random.randint(0, 999)\n",
        "        num2 = random.randint(0, 99)\n",
        "        num3 = random.randint(0, 999999)\n",
        "\n",
        "        num1 = str(num1).zfill(3)      # 1 -> '1' -> '001'\n",
        "        num2 = str(num2).zfill(2)      # 1 -> '1' -> '01'\n",
        "        num3 = str(num3).zfill(6)      # 1 -> '1' -> '0000001'\n",
        "        self.account_number = num1 + '-' + num2 + '-' + num3  # 001-01-000001\n",
        "\n",
        "kim = Account(\"김민수\", 100)\n",
        "print(kim.name)\n",
        "print(kim.balance)\n",
        "print(kim.bank)\n",
        "print(kim.account_number)\n",
        "```"
      ]
    },
    {
      "cell_type": "markdown",
      "metadata": {
        "id": "X1GukuNA-vPR"
      },
      "source": [
        "## 7단계"
      ]
    },
    {
      "cell_type": "markdown",
      "metadata": {},
      "source": [
        "2. 클래스 변수를 사용해서 Account 클래스로부터 생성된 계좌 객체의 개수를 저장하세요.\n",
        "\n"
      ]
    },
    {
      "cell_type": "code",
      "execution_count": null,
      "metadata": {
        "id": "kX9xY63-5j5p"
      },
      "outputs": [],
      "source": [
        "####  답안 작성\n",
        "\n",
        "\n"
      ]
    },
    {
      "cell_type": "markdown",
      "metadata": {},
      "source": [
        "### 정답\n",
        "\n",
        "\n",
        "```\n",
        "import random\n",
        "\n",
        "class Account:\n",
        "    # class variable\n",
        "    account_count = 0\n",
        "\n",
        "    def __init__(self, name, balance):\n",
        "        self.name = name\n",
        "        self.balance = balance\n",
        "        self.bank = \"SC은행\"\n",
        "\n",
        "        num1 = random.randint(0, 999)\n",
        "        num2 = random.randint(0, 99)\n",
        "        num3 = random.randint(0, 999999)\n",
        "\n",
        "        num1 = str(num1).zfill(3)      # 1 -> '1' -> '001'\n",
        "        num2 = str(num2).zfill(2)      # 1 -> '1' -> '01'\n",
        "        num3 = str(num3).zfill(6)      # 1 -> '1' -> '0000001'\n",
        "        self.account_number = num1 + '-' + num2 + '-' + num3  # 001-01-000001\n",
        "\n",
        "        Account.account_count += 1\n",
        "\n",
        "\n",
        "kim = Account(\"김민수\", 100)\n",
        "print(Account.account_count)\n",
        "lee = Account(\"이민수\", 100)\n",
        "print(Account.account_count)\n",
        "\n",
        "```\n"
      ]
    },
    {
      "cell_type": "markdown",
      "metadata": {
        "id": "EnqoaId9BzIm"
      },
      "source": [
        "## 8단계"
      ]
    },
    {
      "cell_type": "markdown",
      "metadata": {},
      "source": [
        "3. Account 클래스로부터 생성된 계좌의 개수를 출력하는 get_account_num() 메서드를 추가하세요."
      ]
    },
    {
      "cell_type": "code",
      "execution_count": null,
      "metadata": {},
      "outputs": [],
      "source": [
        "### 답안 작성"
      ]
    },
    {
      "cell_type": "markdown",
      "metadata": {},
      "source": [
        "### 정답\n",
        "\n",
        "```\n",
        "import random\n",
        "\n",
        "class Account:\n",
        "    # class variable\n",
        "    account_count = 0\n",
        "\n",
        "    def __init__(self, name, balance):\n",
        "        self.name = name\n",
        "        self.balance = balance\n",
        "        self.bank = \"SC은행\"\n",
        "\n",
        "        # 3-2-6\n",
        "        num1 = random.randint(0, 999)\n",
        "        num2 = random.randint(0, 99)\n",
        "        num3 = random.randint(0, 999999)\n",
        "\n",
        "        num1 = str(num1).zfill(3)      # 1 -> '1' -> '001'\n",
        "        num2 = str(num2).zfill(2)      # 1 -> '1' -> '01'\n",
        "        num3 = str(num3).zfill(6)      # 1 -> '1' -> '0000001'\n",
        "        self.account_number = num1 + '-' + num2 + '-' + num3  # 001-01-000001\n",
        "        Account.account_count +=1\n",
        "\n",
        "    @classmethod\n",
        "    def get_account_num(cls):\n",
        "        print(cls.account_count)     # Account.account_count\n",
        "\n",
        "\n",
        "kim = Account(\"김민수\", 100)\n",
        "lee = Account(\"이민수\", 100)\n",
        "kim.get_account_num()\n",
        "\n",
        "\n",
        "```"
      ]
    },
    {
      "cell_type": "markdown",
      "metadata": {},
      "source": [
        "## 9단계"
      ]
    },
    {
      "cell_type": "markdown",
      "metadata": {},
      "source": [
        "4. Account 클래스에 입금을 위한 deposit 메서드를 추가하세요. 입금은 최소 1원 이상만 가능합니다.\n",
        "\n",
        "\n",
        "```\n",
        "a = Stock(None, None)\n",
        "a.set_code(\"005930\")\n",
        "```\n",
        "\n"
      ]
    },
    {
      "cell_type": "code",
      "execution_count": null,
      "metadata": {},
      "outputs": [],
      "source": [
        "### 답안 작성"
      ]
    },
    {
      "cell_type": "markdown",
      "metadata": {},
      "source": [
        "### 정답\n",
        "```\n",
        "import random\n",
        "\n",
        "class Account:\n",
        "    # class variable\n",
        "    account_count = 0\n",
        "\n",
        "    def __init__(self, name, balance):\n",
        "        self.name = name\n",
        "        self.balance = balance\n",
        "        self.bank = \"SC은행\"\n",
        "\n",
        "        # 3-2-6\n",
        "        num1 = random.randint(0, 999)\n",
        "        num2 = random.randint(0, 99)\n",
        "        num3 = random.randint(0, 999999)\n",
        "\n",
        "        num1 = str(num1).zfill(3)      # 1 -> '1' -> '001'\n",
        "        num2 = str(num2).zfill(2)      # 1 -> '1' -> '01'\n",
        "        num3 = str(num3).zfill(6)      # 1 -> '1' -> '0000001'\n",
        "        self.account_number = num1 + '-' + num2 + '-' + num3  # 001-01-000001\n",
        "        Account.account_count +=1\n",
        "\n",
        "    @classmethod\n",
        "    def get_account_num(cls):\n",
        "        print(cls.account_count)     # Account.account_count\n",
        "\n",
        "    def deposit(self, amount):\n",
        "        if amount >= 1:\n",
        "            self.balance += amount\n",
        "\n",
        "```"
      ]
    },
    {
      "cell_type": "markdown",
      "metadata": {},
      "source": [
        "## 9단계"
      ]
    },
    {
      "cell_type": "markdown",
      "metadata": {},
      "source": [
        "5. Account 클래스에 출금을 위한 withdraw 메서드를 추가하세요. 출금은 계좌의 잔고 이상으로 출금할 수는 없습니다."
      ]
    },
    {
      "cell_type": "code",
      "execution_count": null,
      "metadata": {},
      "outputs": [],
      "source": [
        "## 답안작성\n",
        "\n"
      ]
    },
    {
      "cell_type": "markdown",
      "metadata": {},
      "source": [
        "### 정답 \n",
        "```\n",
        "import random\n",
        "\n",
        "\n",
        "class Account:\n",
        "    # class variable\n",
        "    account_count = 0\n",
        "\n",
        "    def __init__(self, name, balance):\n",
        "        self.name = name\n",
        "        self.balance = balance\n",
        "        self.bank = \"SC은행\"\n",
        "\n",
        "        # 3-2-6\n",
        "        num1 = random.randint(0, 999)\n",
        "        num2 = random.randint(0, 99)\n",
        "        num3 = random.randint(0, 999999)\n",
        "\n",
        "        num1 = str(num1).zfill(3)  # 1 -> '1' -> '001'\n",
        "        num2 = str(num2).zfill(2)  # 1 -> '1' -> '01'\n",
        "        num3 = str(num3).zfill(6)  # 1 -> '1' -> '0000001'\n",
        "        self.account_number = num1 + '-' + num2 + '-' + num3  # 001-01-000001\n",
        "        Account.account_count += 1\n",
        "\n",
        "    @classmethod\n",
        "    def get_account_num(cls):\n",
        "        print(cls.account_count)  # Account.account_count\n",
        "\n",
        "    def deposit(self, amount):\n",
        "        if amount >= 1:\n",
        "            self.balance += amount\n",
        "\n",
        "    def withdraw(self, amount):\n",
        "        if self.balance > amount:\n",
        "            self.balance -= amount\n",
        "\n",
        "k = Account(\"kim\", 100)\n",
        "k.deposit(100)\n",
        "k.withdraw(90)\n",
        "print(k.balance)\n",
        "```"
      ]
    },
    {
      "cell_type": "markdown",
      "metadata": {},
      "source": [
        "## 9단계"
      ]
    },
    {
      "cell_type": "markdown",
      "metadata": {},
      "source": [
        "6. Account 인스턴스에 저장된 정보를 출력하는 display_info() 메서드를 추가하세요. 잔고는 세자리마다 쉼표를 출력하세요.\n",
        "\n",
        "```\n",
        "은행이름: SC은행\n",
        "예금주: 파이썬\n",
        "계좌번호: 111-11-111111\n",
        "잔고: 10,000원\n",
        "```\n",
        "\n"
      ]
    },
    {
      "cell_type": "code",
      "execution_count": null,
      "metadata": {},
      "outputs": [],
      "source": [
        "## 답안작성"
      ]
    },
    {
      "cell_type": "markdown",
      "metadata": {},
      "source": [
        "### 정답\n",
        "```\n",
        "import random\n",
        "\n",
        "\n",
        "class Account:\n",
        "    # class variable\n",
        "    account_count = 0\n",
        "\n",
        "    def __init__(self, name, balance):\n",
        "        self.name = name\n",
        "        self.balance = balance\n",
        "        self.bank = \"SC은행\"\n",
        "\n",
        "        # 3-2-6\n",
        "        num1 = random.randint(0, 999)\n",
        "        num2 = random.randint(0, 99)\n",
        "        num3 = random.randint(0, 999999)\n",
        "\n",
        "        num1 = str(num1).zfill(3)  # 1 -> '1' -> '001'\n",
        "        num2 = str(num2).zfill(2)  # 1 -> '1' -> '01'\n",
        "        num3 = str(num3).zfill(6)  # 1 -> '1' -> '0000001'\n",
        "        self.account_number = num1 + '-' + num2 + '-' + num3  # 001-01-000001\n",
        "        Account.account_count += 1\n",
        "\n",
        "    @classmethod\n",
        "    def get_account_num(cls):\n",
        "        print(cls.account_count)  # Account.account_count\n",
        "\n",
        "    def deposit(self, amount):\n",
        "        if amount >= 1:\n",
        "            self.balance += amount\n",
        "\n",
        "    def withdraw(self, amount):\n",
        "        if self.balance > amount:\n",
        "            self.balance -= amount\n",
        "\n",
        "    def display_info(self):\n",
        "        print(\"은행이름: \", self.bank)\n",
        "        print(\"예금주: \", self.name)\n",
        "        print(\"계좌번호: \", self.account_number)\n",
        "        print(\"잔고: \", self.balance)\n",
        "\n",
        "\n",
        "p = Account(\"파이썬\", 10000)\n",
        "p.display_info()\n",
        "\n",
        "\n",
        "```"
      ]
    },
    {
      "cell_type": "markdown",
      "metadata": {},
      "source": [
        "## 10단계"
      ]
    },
    {
      "cell_type": "markdown",
      "metadata": {},
      "source": [
        "7. 입금 횟수가 5회가 될 때 잔고를 기준으로 1%의 이자가 잔고에 추가되도록 코드를 변경해보세요."
      ]
    },
    {
      "cell_type": "code",
      "execution_count": null,
      "metadata": {},
      "outputs": [],
      "source": [
        "## 답안 작성\n",
        "\n"
      ]
    },
    {
      "cell_type": "markdown",
      "metadata": {},
      "source": [
        "### 정답\n",
        "\n",
        "\n",
        "```\n",
        "import random\n",
        "\n",
        "\n",
        "class Account:\n",
        "    # class variable\n",
        "    account_count = 0\n",
        "\n",
        "    def __init__(self, name, balance):\n",
        "        self.deposit_count = 0\n",
        "\n",
        "        self.name = name\n",
        "        self.balance = balance\n",
        "        self.bank = \"SC은행\"\n",
        "\n",
        "        # 3-2-6\n",
        "        num1 = random.randint(0, 999)\n",
        "        num2 = random.randint(0, 99)\n",
        "        num3 = random.randint(0, 999999)\n",
        "\n",
        "        num1 = str(num1).zfill(3)  # 1 -> '1' -> '001'\n",
        "        num2 = str(num2).zfill(2)  # 1 -> '1' -> '01'\n",
        "        num3 = str(num3).zfill(6)  # 1 -> '1' -> '0000001'\n",
        "        self.account_number = num1 + '-' + num2 + '-' + num3  # 001-01-000001\n",
        "        Account.account_count += 1\n",
        "\n",
        "    @classmethod\n",
        "    def get_account_num(cls):\n",
        "        print(cls.account_count)  # Account.account_count\n",
        "\n",
        "    def deposit(self, amount):\n",
        "        if amount >= 1:\n",
        "            self.balance += amount\n",
        "\n",
        "            self.deposit_count += 1\n",
        "            if self.deposit_count % 5 == 0:         # 5, 10, 15\n",
        "                # 이자 지금\n",
        "                self.balance = (self.balance * 1.01)\n",
        "\n",
        "\n",
        "    def withdraw(self, amount):\n",
        "        if self.balance > amount:\n",
        "            self.balance -= amount\n",
        "\n",
        "    def display_info(self):\n",
        "        print(\"은행이름: \", self.bank)\n",
        "        print(\"예금주: \", self.name)\n",
        "        print(\"계좌번호: \", self.account_number)\n",
        "        print(\"잔고: \", self.balance)\n",
        "\n",
        "p = Account(\"파이썬\", 10000)\n",
        "p.deposit(10000)\n",
        "p.deposit(10000)\n",
        "p.deposit(10000)\n",
        "p.deposit(5000)\n",
        "p.deposit(5000)\n",
        "print(p.balance)\n",
        "\n",
        "```"
      ]
    },
    {
      "cell_type": "markdown",
      "metadata": {},
      "source": [
        "## 13단계"
      ]
    },
    {
      "cell_type": "markdown",
      "metadata": {},
      "source": [
        "8. Account 클래스로부터 3개 이상 인스턴스를 생성하고 생성된 인스턴스를 리스트에 저장해보세요.\n",
        "\n"
      ]
    },
    {
      "cell_type": "code",
      "execution_count": null,
      "metadata": {},
      "outputs": [],
      "source": [
        "## 답안 작성"
      ]
    },
    {
      "cell_type": "markdown",
      "metadata": {},
      "source": [
        "### 정답\n",
        "\n",
        "```\n",
        "import random\n",
        "\n",
        "\n",
        "class Account:\n",
        "    # class variable\n",
        "    account_count = 0\n",
        "\n",
        "    def __init__(self, name, balance):\n",
        "        self.deposit_count = 0\n",
        "\n",
        "        self.name = name\n",
        "        self.balance = balance\n",
        "        self.bank = \"SC은행\"\n",
        "\n",
        "        # 3-2-6\n",
        "        num1 = random.randint(0, 999)\n",
        "        num2 = random.randint(0, 99)\n",
        "        num3 = random.randint(0, 999999)\n",
        "\n",
        "        num1 = str(num1).zfill(3)  # 1 -> '1' -> '001'\n",
        "        num2 = str(num2).zfill(2)  # 1 -> '1' -> '01'\n",
        "        num3 = str(num3).zfill(6)  # 1 -> '1' -> '0000001'\n",
        "        self.account_number = num1 + '-' + num2 + '-' + num3  # 001-01-000001\n",
        "        Account.account_count += 1\n",
        "\n",
        "    @classmethod\n",
        "    def get_account_num(cls):\n",
        "        print(cls.account_count)  # Account.account_count\n",
        "\n",
        "    def deposit(self, amount):\n",
        "        if amount >= 1:\n",
        "            self.balance += amount\n",
        "\n",
        "            self.deposit_count += 1\n",
        "            if self.deposit_count % 5 == 0:         # 5, 10, 15\n",
        "                # 이자 지금\n",
        "                self.balance = (self.balance * 1.01)\n",
        "\n",
        "\n",
        "    def withdraw(self, amount):\n",
        "        if self.balance > amount:\n",
        "            self.balance -= amount\n",
        "\n",
        "    def display_info(self):\n",
        "        print(\"은행이름: \", self.bank)\n",
        "        print(\"예금주: \", self.name)\n",
        "        print(\"계좌번호: \", self.account_number)\n",
        "        print(\"잔고: \", self.balance)\n",
        "\n",
        "data = []\n",
        "k = Account(\"KIM\", 10000000)\n",
        "l = Account(\"LEE\", 10000)\n",
        "p = Account(\"PARK\", 10000)\n",
        "\n",
        "data.append(k)\n",
        "data.append(l)\n",
        "data.append(p)\n",
        "\n",
        "print(data)\n",
        "\n",
        "```\n"
      ]
    },
    {
      "cell_type": "markdown",
      "metadata": {},
      "source": [
        "## 14단계"
      ]
    },
    {
      "cell_type": "markdown",
      "metadata": {},
      "source": [
        "9. 반복문을 통해 리스트에 있는 객체를 순회하면서 잔고가 100만원 이상인 고객의 정보만 출력하세요.\n",
        "\n",
        "```\n"
      ]
    },
    {
      "cell_type": "code",
      "execution_count": null,
      "metadata": {},
      "outputs": [],
      "source": [
        "## 답안 작성"
      ]
    },
    {
      "cell_type": "markdown",
      "metadata": {},
      "source": [
        "### 정답\n",
        "\n",
        "```\n",
        "import random\n",
        "\n",
        "\n",
        "class Account:\n",
        "    # class variable\n",
        "    account_count = 0\n",
        "\n",
        "    def __init__(self, name, balance):\n",
        "        self.deposit_count = 0\n",
        "\n",
        "        self.name = name\n",
        "        self.balance = balance\n",
        "        self.bank = \"SC은행\"\n",
        "\n",
        "        # 3-2-6\n",
        "        num1 = random.randint(0, 999)\n",
        "        num2 = random.randint(0, 99)\n",
        "        num3 = random.randint(0, 999999)\n",
        "\n",
        "        num1 = str(num1).zfill(3)  # 1 -> '1' -> '001'\n",
        "        num2 = str(num2).zfill(2)  # 1 -> '1' -> '01'\n",
        "        num3 = str(num3).zfill(6)  # 1 -> '1' -> '0000001'\n",
        "        self.account_number = num1 + '-' + num2 + '-' + num3  # 001-01-000001\n",
        "        Account.account_count += 1\n",
        "\n",
        "    @classmethod\n",
        "    def get_account_num(cls):\n",
        "        print(cls.account_count)  # Account.account_count\n",
        "\n",
        "    def deposit(self, amount):\n",
        "        if amount >= 1:\n",
        "            self.balance += amount\n",
        "\n",
        "            self.deposit_count += 1\n",
        "            if self.deposit_count % 5 == 0:         # 5, 10, 15\n",
        "                # 이자 지금\n",
        "                self.balance = (self.balance * 1.01)\n",
        "\n",
        "\n",
        "    def withdraw(self, amount):\n",
        "        if self.balance > amount:\n",
        "            self.balance -= amount\n",
        "\n",
        "    def display_info(self):\n",
        "        print(\"은행이름: \", self.bank)\n",
        "        print(\"예금주: \", self.name)\n",
        "        print(\"계좌번호: \", self.account_number)\n",
        "        print(\"잔고: \", self.balance)\n",
        "\n",
        "data = []\n",
        "k = Account(\"KIM\", 10000000)\n",
        "l = Account(\"LEE\", 10000)\n",
        "p = Account(\"PARK\", 10000)\n",
        "data.append(k)\n",
        "data.append(l)\n",
        "data.append(p)\n",
        "\n",
        "for c in data:\n",
        "    if c.balance >= 1000000:\n",
        "        c.display_info()\n",
        "\n",
        "\n",
        "```"
      ]
    },
    {
      "cell_type": "markdown",
      "metadata": {},
      "source": [
        "## 15단계\n"
      ]
    },
    {
      "cell_type": "markdown",
      "metadata": {},
      "source": [
        "10. 입금과 출금 내역이 기록되도록 코드를 업데이트 하세요. 입금 내역과 출금 내역을 출력하는 deposit_history와 withdraw_history 메서드를 추가하세요.\n",
        "\n",
        "\n"
      ]
    },
    {
      "cell_type": "code",
      "execution_count": null,
      "metadata": {},
      "outputs": [],
      "source": [
        "# 답안작성"
      ]
    },
    {
      "cell_type": "markdown",
      "metadata": {},
      "source": [
        "### 정답\n",
        "```\n",
        "import random\n",
        "\n",
        "\n",
        "class Account:\n",
        "    # class variable\n",
        "    account_count = 0\n",
        "\n",
        "    def __init__(self, name, balance):\n",
        "        self.deposit_count = 0\n",
        "        self.deposit_log = []\n",
        "        self.withdraw_log = []\n",
        "\n",
        "        self.name = name\n",
        "        self.balance = balance\n",
        "        self.bank = \"SC은행\"\n",
        "\n",
        "        # 3-2-6\n",
        "        num1 = random.randint(0, 999)\n",
        "        num2 = random.randint(0, 99)\n",
        "        num3 = random.randint(0, 999999)\n",
        "\n",
        "        num1 = str(num1).zfill(3)  # 1 -> '1' -> '001'\n",
        "        num2 = str(num2).zfill(2)  # 1 -> '1' -> '01'\n",
        "        num3 = str(num3).zfill(6)  # 1 -> '1' -> '0000001'\n",
        "        self.account_number = num1 + '-' + num2 + '-' + num3  # 001-01-000001\n",
        "        Account.account_count += 1\n",
        "\n",
        "    @classmethod\n",
        "    def get_account_num(cls):\n",
        "        print(cls.account_count)  # Account.account_count\n",
        "\n",
        "    def deposit(self, amount):\n",
        "        if amount >= 1:\n",
        "            self.deposit_log.append(amount)\n",
        "            self.balance += amount\n",
        "\n",
        "            self.deposit_count += 1\n",
        "            if self.deposit_count % 5 == 0:         # 5, 10, 15\n",
        "                # 이자 지금\n",
        "                self.balance = (self.balance * 1.01)\n",
        "\n",
        "\n",
        "    def withdraw(self, amount):\n",
        "        if self.balance > amount:\n",
        "            self.withdraw_log.append(amount)\n",
        "            self.balance -= amount\n",
        "\n",
        "    def display_info(self):\n",
        "        print(\"은행이름: \", self.bank)\n",
        "        print(\"예금주: \", self.name)\n",
        "        print(\"계좌번호: \", self.account_number)\n",
        "        print(\"잔고: \", self.balance)\n",
        "\n",
        "    def withdraw_history(self):\n",
        "        for amount in self.withdraw_log:\n",
        "            print(amount)\n",
        "\n",
        "    def deposit_history(self):\n",
        "        for amount in self.deposit_log:\n",
        "            print(amount)\n",
        "\n",
        "\n",
        "k = Account(\"Kim\", 1000)\n",
        "k.deposit(100)\n",
        "k.deposit(200)\n",
        "k.deposit(300)\n",
        "k.deposit_history()\n",
        "\n",
        "k.withdraw(100)\n",
        "k.withdraw(200)\n",
        "k.withdraw_history()\n",
        "\n",
        "\n",
        "```"
      ]
    }
  ],
  "metadata": {
    "colab": {
      "authorship_tag": "ABX9TyMeFWOrPKgXKme+CgCqF7DK",
      "collapsed_sections": [],
      "include_colab_link": true,
      "name": "python-final_2021-1-계절학기.ipynb",
      "provenance": []
    },
    "kernelspec": {
      "display_name": "Python 3",
      "name": "python3"
    },
    "language_info": {
      "codemirror_mode": {
        "name": "ipython",
        "version": 3
      },
      "file_extension": ".py",
      "mimetype": "text/x-python",
      "name": "python",
      "nbconvert_exporter": "python",
      "pygments_lexer": "ipython3",
      "version": "3.9.4"
    }
  },
  "nbformat": 4,
  "nbformat_minor": 0
}
