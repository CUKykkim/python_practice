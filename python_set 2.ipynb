{
  "cells": [
    {
      "cell_type": "markdown",
      "metadata": {
        "colab_type": "text",
        "id": "view-in-github"
      },
      "source": [
        "<a href=\"https://colab.research.google.com/github/ykkim77/python-final/blob/main/python_final_2021_1_%EA%B3%84%EC%A0%88%ED%95%99%EA%B8%B0.ipynb\" target=\"_parent\"><img src=\"https://colab.research.google.com/assets/colab-badge.svg\" alt=\"Open In Colab\"/></a>"
      ]
    },
    {
      "cell_type": "markdown",
      "metadata": {
        "id": "TQggtlLF-huA"
      },
      "source": [
        "# **파이썬 프로그래밍 2세트**\n",
        "\n"
      ]
    },
    {
      "cell_type": "markdown",
      "metadata": {},
      "source": [
        "## 2단계"
      ]
    },
    {
      "cell_type": "markdown",
      "metadata": {
        "id": "lhpvyiXLeu-1"
      },
      "source": [
        "1. 아래와 같이 리스트의 데이터를 출력하라. 단, for문과 range문을 사용하라.\n",
        "\n",
        "price_list = [32100, 32150, 32000, 32500]\n",
        "\n",
        "```\n",
        "0 32100\n",
        "1 32150\n",
        "2 32000\n",
        "3 32500\n",
        "```\n",
        "\n"
      ]
    },
    {
      "cell_type": "code",
      "execution_count": null,
      "metadata": {
        "id": "cb4AtnIZIGyA"
      },
      "outputs": [],
      "source": [
        "###### 문제 답안 작성\n",
        "\n",
        "\n"
      ]
    },
    {
      "cell_type": "markdown",
      "metadata": {},
      "source": [
        "### 정답확인\n",
        "\n",
        "\n",
        "```\n",
        "price_list = [32100, 32150, 32000, 32500]\n",
        "for i, data in enumerate(price_list):\n",
        "    print(i, data)\n",
        "```"
      ]
    },
    {
      "cell_type": "markdown",
      "metadata": {
        "id": "X1GukuNA-vPR"
      },
      "source": [
        "## 2단계"
      ]
    },
    {
      "cell_type": "markdown",
      "metadata": {},
      "source": [
        "2. range() 구문을 이용하여 sample_list를 아래와 같이 출력하라.\n",
        "\n",
        "```\n",
        "sample_list = [\"가\", \"나\", \"다\", \"라\"]\n",
        "```\n",
        "\n",
        "```\n",
        "가 나\n",
        "나 다\n",
        "다 라\n",
        "```"
      ]
    },
    {
      "cell_type": "code",
      "execution_count": null,
      "metadata": {
        "id": "kX9xY63-5j5p"
      },
      "outputs": [],
      "source": [
        "####  답안 작성\n",
        "\n",
        "\n"
      ]
    },
    {
      "cell_type": "markdown",
      "metadata": {},
      "source": [
        "### 정답\n",
        "```\n",
        "for i in range( 1, len(sample_list) ) :\n",
        "  print(sample_list[i-1], sample_list[i])\n",
        "```"
      ]
    },
    {
      "cell_type": "markdown",
      "metadata": {
        "id": "EnqoaId9BzIm"
      },
      "source": [
        "## 3단계"
      ]
    },
    {
      "cell_type": "markdown",
      "metadata": {},
      "source": [
        "3. 리스트에 저장된 데이터를 아래와 같이 출력하라.\n",
        "\n",
        "```\n",
        "apart = [ [101, 102], [201, 202], [301, 302] ]\n",
        "```\n",
        "\n",
        "```\n",
        "101 호\n",
        "-----\n",
        "102 호\n",
        "-----\n",
        "201 호\n",
        "-----\n",
        "202 호\n",
        "-----\n",
        "301 호\n",
        "-----\n",
        "302 호\n",
        "-----\n",
        "```"
      ]
    },
    {
      "cell_type": "code",
      "execution_count": null,
      "metadata": {},
      "outputs": [],
      "source": [
        "### 답안 작성"
      ]
    },
    {
      "cell_type": "markdown",
      "metadata": {},
      "source": [
        "### 정답\n",
        "\n",
        "```\n",
        "for row in apart:\n",
        "    for col in row:\n",
        "        print(col, \"호\")\n",
        "        print(\"-\" * 5)\n",
        "```"
      ]
    },
    {
      "cell_type": "markdown",
      "metadata": {},
      "source": [
        "## 4단계"
      ]
    },
    {
      "cell_type": "markdown",
      "metadata": {},
      "source": [
        "4. 리스트에는 네 개의 정수가 저장되어 있다. 각각의 데이터에 대해서 자신과 우측값과의 차분값을 화면에 출력하라.\n",
        "\n",
        "\n",
        "```\n",
        "sample_list = [100, 200, 400, 800]\n",
        "```\n",
        "예를들어 100을 기준으로 우측에 위치한 200과의 차분 값를 화면에 출력하고, 200을 기준으로 우측에 위치한 400과의 차분값을 화면에 출력한다. 이어서 400을 기준으로 우측에 위치한 800과의 차분값을 화면에 출력한다.\n",
        "\n",
        "```\n",
        "100\n",
        "200\n",
        "400\n",
        "```"
      ]
    },
    {
      "cell_type": "code",
      "execution_count": null,
      "metadata": {},
      "outputs": [],
      "source": [
        "### 답안 작성"
      ]
    },
    {
      "cell_type": "markdown",
      "metadata": {},
      "source": [
        "### 정답\n",
        "```\n",
        "for i in range(len(my_list) - 1):\n",
        "    print(abs(my_list[i+1] - my_list[i]))\n",
        "```"
      ]
    },
    {
      "cell_type": "markdown",
      "metadata": {},
      "source": [
        "## 5단계"
      ]
    },
    {
      "cell_type": "markdown",
      "metadata": {},
      "source": [
        "5. 리스트에는 6일 간의 종가 데이터가 저장되어 있다. 종가 데이터의 3일 이동 평균을 계산하고 이를 화면에 출력하라.\n",
        "\n",
        "```\n",
        "my_list = [100, 200, 400, 800, 1000, 1300]\n",
        "```\n",
        "\n",
        "첫 번째 줄에는 100, 200, 400의 평균값이 출력된다. 두 번째 줄에는 200, 400, 800의 평균값이 출력된다. 같은 방식으로 나머지 데이터의 평균을 출력한다.\n",
        "\n",
        "```\n",
        "233.33333333333334\n",
        "466.6666666666667\n",
        "733.3333333333334\n",
        "1033.3333333333333\n",
        "```"
      ]
    },
    {
      "cell_type": "code",
      "execution_count": null,
      "metadata": {},
      "outputs": [],
      "source": [
        "## 답안작성\n",
        "\n"
      ]
    },
    {
      "cell_type": "markdown",
      "metadata": {},
      "source": [
        "### 정답 \n",
        "```\n",
        "for i in range(1, len(my_list) - 1):\n",
        "    print(abs(my_list[i-1] + my_list[i] + my_list[i+1]) / 3)\n",
        "```"
      ]
    },
    {
      "cell_type": "markdown",
      "metadata": {},
      "source": [
        "## 9단계"
      ]
    },
    {
      "cell_type": "markdown",
      "metadata": {},
      "source": [
        "6. 리스트에 5일간의 저가, 고가 정보가 저장돼 있다. 고가와 저가의 차를 변동폭이라고 정의할 때, low, high 두 개의 리스트를 사용해서 5일간의 변동폭을 volatility 리스트에 저장하라.\n",
        "\n",
        "\n",
        "```\n",
        "low_prices  = [100, 200, 400, 800, 1000]\n",
        "high_prices = [150, 300, 430, 880, 1000]\n",
        "```"
      ]
    },
    {
      "cell_type": "code",
      "execution_count": null,
      "metadata": {},
      "outputs": [],
      "source": [
        "## 답안작성"
      ]
    },
    {
      "cell_type": "markdown",
      "metadata": {},
      "source": [
        "### 정답\n",
        "```\n",
        "volatility = []\n",
        "for i in range(len(low_prices)) :\n",
        "    volatility.append(high_prices[i] - low_prices[i])\n",
        "```"
      ]
    },
    {
      "cell_type": "markdown",
      "metadata": {},
      "source": [
        "## 10단계"
      ]
    },
    {
      "cell_type": "markdown",
      "metadata": {},
      "source": [
        "7. \"CUK\" 문자열을 100번 화면에 출력하는 print_cuk() 함수를 정의하라.\n",
        "\n"
      ]
    },
    {
      "cell_type": "code",
      "execution_count": null,
      "metadata": {},
      "outputs": [],
      "source": [
        "## 답안 작성\n",
        "\n"
      ]
    },
    {
      "cell_type": "markdown",
      "metadata": {},
      "source": [
        "### 정답\n",
        "\n",
        "\n",
        "```\n",
        "def print_coins():\n",
        "    for i in range(100):\n",
        "        print(\"CUK\")\n",
        "```"
      ]
    },
    {
      "cell_type": "markdown",
      "metadata": {},
      "source": [
        "## 11단계"
      ]
    },
    {
      "cell_type": "markdown",
      "metadata": {},
      "source": [
        "8. CUK라는 클래스를 정의하시오.\n",
        "\n"
      ]
    },
    {
      "cell_type": "code",
      "execution_count": null,
      "metadata": {},
      "outputs": [],
      "source": [
        "## 답안 작성"
      ]
    },
    {
      "cell_type": "markdown",
      "metadata": {},
      "source": [
        "### 정답\n",
        "\n",
        "```\n",
        "class CUK:\n",
        "    pass\n",
        "```"
      ]
    },
    {
      "cell_type": "markdown",
      "metadata": {},
      "source": [
        "## 12단계"
      ]
    },
    {
      "cell_type": "markdown",
      "metadata": {},
      "source": [
        "9. CUK 클래스를 정의하고 CUK의 인스턴스를 \"생성\" 한뒤 이를 sample 변수로 바인딩해보세요.\n",
        "\n"
      ]
    },
    {
      "cell_type": "code",
      "execution_count": null,
      "metadata": {},
      "outputs": [],
      "source": [
        "## 답안 작성"
      ]
    },
    {
      "cell_type": "markdown",
      "metadata": {},
      "source": [
        "### 정답\n",
        "\n",
        "```\n",
        "class CUK:\n",
        "    pass\n",
        "\n",
        "sample = CUK()\n",
        "\n",
        "```"
      ]
    },
    {
      "cell_type": "markdown",
      "metadata": {},
      "source": [
        "## 14단계\n"
      ]
    },
    {
      "cell_type": "markdown",
      "metadata": {},
      "source": [
        "10. CUK 클래스에 \"study hard\"를 출력하는 생성자를 추가하세요.\n",
        "\n",
        "```\n",
        "sample = CUK()\n",
        "```\n",
        "\n",
        "```\n",
        "study hard\n",
        "```"
      ]
    },
    {
      "cell_type": "code",
      "execution_count": null,
      "metadata": {},
      "outputs": [],
      "source": [
        "# 답안작성"
      ]
    },
    {
      "cell_type": "markdown",
      "metadata": {},
      "source": [
        "### 정답\n",
        "```\n",
        "class CUK:\n",
        "    def __init__(self):\n",
        "        print(\"study hard\")\n",
        "\n",
        "sample = CUK()\n",
        "```"
      ]
    }
  ],
  "metadata": {
    "colab": {
      "authorship_tag": "ABX9TyMeFWOrPKgXKme+CgCqF7DK",
      "collapsed_sections": [],
      "include_colab_link": true,
      "name": "python-final_2021-1-계절학기.ipynb",
      "provenance": []
    },
    "kernelspec": {
      "display_name": "Python 3",
      "name": "python3"
    },
    "language_info": {
      "codemirror_mode": {
        "name": "ipython",
        "version": 3
      },
      "file_extension": ".py",
      "mimetype": "text/x-python",
      "name": "python",
      "nbconvert_exporter": "python",
      "pygments_lexer": "ipython3",
      "version": "3.9.4"
    }
  },
  "nbformat": 4,
  "nbformat_minor": 0
}
