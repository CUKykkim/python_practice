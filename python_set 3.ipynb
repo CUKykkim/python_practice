{
  "cells": [
    {
      "cell_type": "markdown",
      "metadata": {
        "colab_type": "text",
        "id": "view-in-github"
      },
      "source": [
        "<a href=\"https://colab.research.google.com/github/ykkim77/python-final/blob/main/python_final_2021_1_%EA%B3%84%EC%A0%88%ED%95%99%EA%B8%B0.ipynb\" target=\"_parent\"><img src=\"https://colab.research.google.com/assets/colab-badge.svg\" alt=\"Open In Colab\"/></a>"
      ]
    },
    {
      "cell_type": "markdown",
      "metadata": {
        "id": "TQggtlLF-huA"
      },
      "source": [
        "# **파이썬 프로그래밍 3세트**\n",
        "\n"
      ]
    },
    {
      "cell_type": "markdown",
      "metadata": {},
      "source": [
        "## 5단계"
      ]
    },
    {
      "cell_type": "markdown",
      "metadata": {
        "id": "lhpvyiXLeu-1"
      },
      "source": [
        "1. 입력된 문자열을 역순으로 출력하는 reverse 함수를 정의하라.\n",
        "\n",
        "\n",
        "```\n",
        "print_reverse(\"grape\")\n",
        "```\n",
        "\n",
        "```\n",
        "eparg\n",
        "```\n",
        "\n"
      ]
    },
    {
      "cell_type": "code",
      "execution_count": null,
      "metadata": {
        "id": "cb4AtnIZIGyA"
      },
      "outputs": [],
      "source": [
        "###### 문제 답안 작성\n",
        "\n",
        "\n"
      ]
    },
    {
      "cell_type": "markdown",
      "metadata": {},
      "source": [
        "### 정답확인\n",
        "\n",
        "\n",
        "```\n",
        "def print_reverse(string) :\n",
        "    print(string[::-1])\n",
        "```"
      ]
    },
    {
      "cell_type": "markdown",
      "metadata": {
        "id": "X1GukuNA-vPR"
      },
      "source": [
        "## 6단계"
      ]
    },
    {
      "cell_type": "markdown",
      "metadata": {},
      "source": [
        "2. 성적 리스트를 입력 받아 평균을 출력하는 print_score 함수를 정의하라.\n",
        "\n",
        "\n",
        "\n",
        "```\n",
        "print_score ([1, 2, 3])\n",
        "```\n",
        "\n",
        "```\n",
        "2.0\n",
        "```"
      ]
    },
    {
      "cell_type": "code",
      "execution_count": null,
      "metadata": {
        "id": "kX9xY63-5j5p"
      },
      "outputs": [],
      "source": [
        "####  답안 작성\n",
        "\n",
        "\n"
      ]
    },
    {
      "cell_type": "markdown",
      "metadata": {},
      "source": [
        "### 정답\n",
        "```\n",
        "def print_score(score_list) :\n",
        "    print(sum(score_list)/len(score_list))\n",
        "```"
      ]
    },
    {
      "cell_type": "markdown",
      "metadata": {
        "id": "EnqoaId9BzIm"
      },
      "source": [
        "## 7단계"
      ]
    },
    {
      "cell_type": "markdown",
      "metadata": {},
      "source": [
        "3. 하나의 리스트를 입력받아 짝수만 화면에 출력하는 print_even 함수를 정의하라.\n",
        "\n",
        "```\n",
        "print_even ([1, 3, 2, 10, 12, 11, 15])\n",
        "```\n",
        "\n",
        "```\n",
        "2\n",
        "10\n",
        "12\n",
        "```"
      ]
    },
    {
      "cell_type": "code",
      "execution_count": null,
      "metadata": {},
      "outputs": [],
      "source": [
        "### 답안 작성"
      ]
    },
    {
      "cell_type": "markdown",
      "metadata": {},
      "source": [
        "### 정답\n",
        "\n",
        "```\n",
        "def print_even (my_list) :\n",
        "    for v in my_list :\n",
        "        if v % 2 == 0 :\n",
        "            print(v)\n",
        "```"
      ]
    },
    {
      "cell_type": "markdown",
      "metadata": {},
      "source": [
        "## 8단계"
      ]
    },
    {
      "cell_type": "markdown",
      "metadata": {},
      "source": [
        "4. 하나의 딕셔너리를 입력받아 딕셔너리의 key 값을 화면에 출력하는 print_keys 함수를 정의하라.\n",
        "\n",
        "\n",
        "```\n",
        "print_keys ({\"이름\":\"김말똥\", \"나이\":30, \"성별\":0})\n",
        "```\n",
        "\n",
        "```\n",
        "이름\n",
        "나이\n",
        "성별\n",
        "```"
      ]
    },
    {
      "cell_type": "code",
      "execution_count": null,
      "metadata": {},
      "outputs": [],
      "source": [
        "### 답안 작성"
      ]
    },
    {
      "cell_type": "markdown",
      "metadata": {},
      "source": [
        "### 정답\n",
        "```\n",
        "def print_keys(dic):\n",
        "    for keys in dic.keys():\n",
        "        print(keys)\n",
        "```"
      ]
    },
    {
      "cell_type": "markdown",
      "metadata": {},
      "source": [
        "## 9단계"
      ]
    },
    {
      "cell_type": "markdown",
      "metadata": {},
      "source": [
        "5.my_dict에는 날짜를 키값으로 OHLC가 리스트로 저장돼 있다.\n",
        "\n",
        "```\n",
        "my_dict = {\"10/26\" : [100, 130, 100, 100],\n",
        "           \"10/27\" : [10, 12, 10, 11]}\n",
        "```\n",
        "\n",
        "my_dict와 날짜 키값을 입력받아 OHLC 리스트를 출력하는 print_value_by_key 함수를 정의하라.\n",
        "\n",
        "```\n",
        "print_value_by_key  (my_dict, \"10/26\")\n",
        "```\n",
        "\n",
        "```\n",
        "[100, 130, 100, 100]\n",
        "```"
      ]
    },
    {
      "cell_type": "code",
      "execution_count": null,
      "metadata": {},
      "outputs": [],
      "source": [
        "## 답안작성\n",
        "\n"
      ]
    },
    {
      "cell_type": "markdown",
      "metadata": {},
      "source": [
        "### 정답 \n",
        "```\n",
        "def print_value_by_key (my_dict, key) :\n",
        "    print(my_dict[key])\n",
        "```"
      ]
    },
    {
      "cell_type": "markdown",
      "metadata": {},
      "source": [
        "## 9단계"
      ]
    },
    {
      "cell_type": "markdown",
      "metadata": {},
      "source": [
        "6. 입력 문자열을 한 줄에 다섯글자씩 출력하는 print_5xn(string) 함수를 작성하라.\n",
        "\n",
        "\n",
        "```\n",
        "print_5xn(\"아이엠어보이유알어걸\")\n",
        "```\n",
        "\n",
        "```\n",
        "아이엠어보\n",
        "이유알어걸\n",
        "```"
      ]
    },
    {
      "cell_type": "code",
      "execution_count": null,
      "metadata": {},
      "outputs": [],
      "source": [
        "## 답안작성"
      ]
    },
    {
      "cell_type": "markdown",
      "metadata": {},
      "source": [
        "### 정답\n",
        "```\n",
        "def print_5xn(line):\n",
        "    chunk_num = int(len(line) / 5)\n",
        "    for x in range(chunk_num + 1) :\n",
        "        print(line[x * 5: x * 5 + 5])\n",
        "```"
      ]
    },
    {
      "cell_type": "markdown",
      "metadata": {},
      "source": [
        "## 10단계"
      ]
    },
    {
      "cell_type": "markdown",
      "metadata": {},
      "source": [
        "7. 문자열과 한줄에 출력될 글자 수를 입력을 받아 한 줄에 입력된 글자 수만큼 출력하는 print_mxn(string) 함수를 작성하라.\n",
        "\n",
        "```\n",
        "printmxn(\"아이엠어보이유알어걸\", 3)\n",
        "```\n",
        "\n",
        "```\n",
        "아이엠\n",
        "어보이\n",
        "유알어\n",
        "걸\n",
        "```"
      ]
    },
    {
      "cell_type": "code",
      "execution_count": null,
      "metadata": {},
      "outputs": [],
      "source": [
        "## 답안 작성\n",
        "\n"
      ]
    },
    {
      "cell_type": "markdown",
      "metadata": {},
      "source": [
        "### 정답\n",
        "\n",
        "\n",
        "```\n",
        "def print_mxn(line, num):\n",
        "    chunk_num = int(len(line) / num)\n",
        "    for x in range(chunk_num + 1) :\n",
        "        print(line[x * num: x * num + num])\n",
        "```"
      ]
    },
    {
      "cell_type": "markdown",
      "metadata": {},
      "source": [
        "## 11단계"
      ]
    },
    {
      "cell_type": "markdown",
      "metadata": {},
      "source": [
        "8. 연봉을 입력받아 월급을 계산하는 calc_monthly_salary(annual_salary) 함수를 정의하라. 회사는 연봉을 12개월로 나누어 분할 지급하며, 이 때 1원 미만은 버림한다.\n",
        "\n",
        "```\n",
        "calc_monthly_salary(12000000)\n",
        "```\n",
        "\n",
        "```\n",
        "1000000\n",
        "```"
      ]
    },
    {
      "cell_type": "code",
      "execution_count": null,
      "metadata": {},
      "outputs": [],
      "source": [
        "## 답안 작성"
      ]
    },
    {
      "cell_type": "markdown",
      "metadata": {},
      "source": [
        "### 정답\n",
        "\n",
        "```\n",
        "def calc_monthly_salary(annual_pay) :\n",
        "    monthly_pay = int(annual_pay / 12)\n",
        "    return monthly_pay\n",
        "```"
      ]
    },
    {
      "cell_type": "markdown",
      "metadata": {},
      "source": [
        "## 12단계"
      ]
    },
    {
      "cell_type": "markdown",
      "metadata": {},
      "source": [
        "9. 아래 코드의 실행 결과를 예측하라.\n",
        "\n",
        "```\n",
        "def my_print (a, b) :\n",
        "    print(\"왼쪽:\", a)\n",
        "    print(\"오른쪽:\", b)\n",
        "\n",
        "my_print(a=100, b=200)\n",
        "```\n",
        "\n"
      ]
    },
    {
      "cell_type": "code",
      "execution_count": null,
      "metadata": {},
      "outputs": [],
      "source": [
        "## 답안 작성"
      ]
    },
    {
      "cell_type": "markdown",
      "metadata": {},
      "source": [
        "### 정답\n",
        "\n",
        "```\n",
        "왼쪽: 100\n",
        "오른쪽: 200\n",
        "```"
      ]
    },
    {
      "cell_type": "markdown",
      "metadata": {},
      "source": [
        "## 14단계\n"
      ]
    },
    {
      "cell_type": "markdown",
      "metadata": {},
      "source": [
        "10. 아래 코드의 실행 결과를 예측하라.\n",
        "\n",
        "```\n",
        "def my_print (a, b) :\n",
        "    print(\"왼쪽:\", a)\n",
        "    print(\"오른쪽:\", b)\n",
        "\n",
        "my_print(b=100, a=200)\n",
        "```\n"
      ]
    },
    {
      "cell_type": "code",
      "execution_count": null,
      "metadata": {},
      "outputs": [],
      "source": [
        "# 답안작성"
      ]
    },
    {
      "cell_type": "markdown",
      "metadata": {},
      "source": [
        "### 정답\n",
        "```\n",
        "왼쪽: 200\n",
        "오른쪽: 100\n",
        "```"
      ]
    }
  ],
  "metadata": {
    "colab": {
      "authorship_tag": "ABX9TyMeFWOrPKgXKme+CgCqF7DK",
      "collapsed_sections": [],
      "include_colab_link": true,
      "name": "python-final_2021-1-계절학기.ipynb",
      "provenance": []
    },
    "kernelspec": {
      "display_name": "Python 3",
      "name": "python3"
    },
    "language_info": {
      "codemirror_mode": {
        "name": "ipython",
        "version": 3
      },
      "file_extension": ".py",
      "mimetype": "text/x-python",
      "name": "python",
      "nbconvert_exporter": "python",
      "pygments_lexer": "ipython3",
      "version": "3.9.4"
    }
  },
  "nbformat": 4,
  "nbformat_minor": 0
}
